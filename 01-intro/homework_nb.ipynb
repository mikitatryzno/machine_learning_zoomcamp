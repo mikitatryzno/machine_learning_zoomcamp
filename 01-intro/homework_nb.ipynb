{
 "cells": [
  {
   "cell_type": "code",
   "execution_count": 1,
   "id": "151c52b3",
   "metadata": {},
   "outputs": [
    {
     "name": "stdout",
     "output_type": "stream",
     "text": [
      "2.3.2\n"
     ]
    }
   ],
   "source": [
    "import pandas as pd\n",
    "print(pd.__version__)"
   ]
  },
  {
   "cell_type": "code",
   "execution_count": 2,
   "id": "edec97d6",
   "metadata": {},
   "outputs": [
    {
     "name": "stdout",
     "output_type": "stream",
     "text": [
      "Number of records: 9704\n"
     ]
    }
   ],
   "source": [
    "import requests\n",
    "import pandas as pd\n",
    "\n",
    "# Download the dataset\n",
    "url = \"https://raw.githubusercontent.com/alexeygrigorev/datasets/master/car_fuel_efficiency.csv\"\n",
    "response = requests.get(url)\n",
    "\n",
    "# Save the file locally\n",
    "with open(\"car_fuel_efficiency.csv\", \"wb\") as f:\n",
    "    f.write(response.content)\n",
    "\n",
    "# Read the dataset\n",
    "df = pd.read_csv('car_fuel_efficiency.csv')\n",
    "\n",
    "# Check the number of records\n",
    "print(f\"Number of records: {len(df)}\")"
   ]
  },
  {
   "cell_type": "code",
   "execution_count": 3,
   "id": "e1fbf3b6",
   "metadata": {},
   "outputs": [
    {
     "name": "stdout",
     "output_type": "stream",
     "text": [
      "Fuel types: ['Gasoline' 'Diesel']\n",
      "Number of fuel types: 2\n"
     ]
    }
   ],
   "source": [
    "# Check unique fuel types\n",
    "print(f\"Fuel types: {df['fuel_type'].unique()}\")\n",
    "print(f\"Number of fuel types: {len(df['fuel_type'].unique())}\")"
   ]
  },
  {
   "cell_type": "code",
   "execution_count": 4,
   "id": "6b5505a1",
   "metadata": {},
   "outputs": [
    {
     "name": "stdout",
     "output_type": "stream",
     "text": [
      "Columns with missing values:\n",
      "num_cylinders    482\n",
      "horsepower       708\n",
      "acceleration     930\n",
      "num_doors        502\n",
      "dtype: int64\n",
      "Number of columns with missing values: 4\n"
     ]
    }
   ],
   "source": [
    "# Check for missing values in each column\n",
    "missing_values = df.isnull().sum()\n",
    "columns_with_missing = missing_values[missing_values > 0]\n",
    "print(f\"Columns with missing values:\\n{columns_with_missing}\")\n",
    "print(f\"Number of columns with missing values: {len(columns_with_missing)}\")"
   ]
  },
  {
   "cell_type": "code",
   "execution_count": 6,
   "id": "5029d307",
   "metadata": {},
   "outputs": [
    {
     "name": "stdout",
     "output_type": "stream",
     "text": [
      "['engine_displacement', 'num_cylinders', 'horsepower', 'vehicle_weight', 'acceleration', 'model_year', 'origin', 'fuel_type', 'drivetrain', 'num_doors', 'fuel_efficiency_mpg']\n"
     ]
    }
   ],
   "source": [
    "print(df.columns.tolist())"
   ]
  },
  {
   "cell_type": "code",
   "execution_count": 7,
   "id": "6114cb46",
   "metadata": {},
   "outputs": [
    {
     "name": "stdout",
     "output_type": "stream",
     "text": [
      "Maximum fuel efficiency of cars from Asia: 23.759122836520497\n"
     ]
    }
   ],
   "source": [
    "# Filter cars from Asia and find max fuel efficiency\n",
    "asia_cars = df[df['origin'] == 'Asia']\n",
    "max_efficiency = asia_cars['fuel_efficiency_mpg'].max()\n",
    "print(f\"Maximum fuel efficiency of cars from Asia: {max_efficiency}\")"
   ]
  },
  {
   "cell_type": "code",
   "execution_count": 8,
   "id": "b86a9db8",
   "metadata": {},
   "outputs": [
    {
     "name": "stdout",
     "output_type": "stream",
     "text": [
      "Initial median horsepower: 149.0\n",
      "Most frequent horsepower value: 152.0\n",
      "New median horsepower: 152.0\n",
      "Median increased\n"
     ]
    }
   ],
   "source": [
    "# Calculate initial median value of horsepower\n",
    "initial_median = df['horsepower'].median()\n",
    "print(f\"Initial median horsepower: {initial_median}\")\n",
    "\n",
    "# Find the most frequent value (mode)\n",
    "most_frequent = df['horsepower'].mode()[0]\n",
    "print(f\"Most frequent horsepower value: {most_frequent}\")\n",
    "\n",
    "# Fill missing values with the most frequent value\n",
    "df['horsepower_filled'] = df['horsepower'].fillna(most_frequent)\n",
    "\n",
    "# Calculate new median\n",
    "new_median = df['horsepower_filled'].median()\n",
    "print(f\"New median horsepower: {new_median}\")\n",
    "\n",
    "# Check if median changed\n",
    "if initial_median == new_median:\n",
    "    print(\"Median did not change\")\n",
    "elif initial_median < new_median:\n",
    "    print(\"Median increased\")\n",
    "else:\n",
    "    print(\"Median decreased\")"
   ]
  },
  {
   "cell_type": "code",
   "execution_count": 9,
   "id": "49e51d9a",
   "metadata": {},
   "outputs": [
    {
     "name": "stdout",
     "output_type": "stream",
     "text": [
      "Sum of all elements in w: 0.5187709081074016\n"
     ]
    }
   ],
   "source": [
    "import numpy as np\n",
    "\n",
    "# Select cars from Asia\n",
    "asia_cars = df[df['origin'] == 'Asia']\n",
    "\n",
    "# Select only vehicle_weight and model_year columns\n",
    "selected_data = asia_cars[['vehicle_weight', 'model_year']]\n",
    "\n",
    "# Select first 7 values\n",
    "first_7 = selected_data.head(7)\n",
    "\n",
    "# Get the underlying NumPy array\n",
    "X = first_7.values\n",
    "\n",
    "# Compute matrix-matrix multiplication between transpose of X and X\n",
    "XTX = X.T.dot(X)\n",
    "\n",
    "# Invert XTX\n",
    "XTX_inv = np.linalg.inv(XTX)\n",
    "\n",
    "# Create array y\n",
    "y = np.array([1100, 1300, 800, 900, 1000, 1100, 1200])\n",
    "\n",
    "# Calculate w (linear regression weights)\n",
    "w = XTX_inv.dot(X.T).dot(y)\n",
    "\n",
    "# Calculate sum of all elements in w\n",
    "sum_w = np.sum(w)\n",
    "print(f\"Sum of all elements in w: {sum_w}\")"
   ]
  }
 ],
 "metadata": {
  "kernelspec": {
   "display_name": "venv",
   "language": "python",
   "name": "python3"
  },
  "language_info": {
   "codemirror_mode": {
    "name": "ipython",
    "version": 3
   },
   "file_extension": ".py",
   "mimetype": "text/x-python",
   "name": "python",
   "nbconvert_exporter": "python",
   "pygments_lexer": "ipython3",
   "version": "3.11.4"
  }
 },
 "nbformat": 4,
 "nbformat_minor": 5
}
